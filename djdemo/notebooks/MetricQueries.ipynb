{
 "cells": [
  {
   "cell_type": "code",
   "execution_count": null,
   "id": "54718ccd-f77c-42eb-adce-a634d86d071e",
   "metadata": {
    "tags": []
   },
   "outputs": [],
   "source": [
    "import requests\n",
    "import pprint\n",
    "import json\n",
    "\n",
    "DJ_URL = f\"http://dj:8000\"\n",
    "DJQS_URL = \"http://djqs:8001\"\n",
    "\n",
    "pp = pprint.PrettyPrinter(indent=2)"
   ]
  },
  {
   "cell_type": "code",
   "execution_count": null,
   "id": "b62e30c4-996f-48bc-8983-6da2c7052207",
   "metadata": {
    "tags": []
   },
   "outputs": [],
   "source": [
    "response = requests.get(\n",
    "    f\"{DJ_URL}/metrics/\",\n",
    ")\n",
    "pp.pprint([m[\"name\"] for m in response.json()])"
   ]
  },
  {
   "cell_type": "code",
   "execution_count": null,
   "id": "6d919bc7-b5f6-4193-bc82-06dbcb59227c",
   "metadata": {
    "tags": []
   },
   "outputs": [],
   "source": [
    "response = requests.get(\n",
    "    f\"{DJ_URL}/metrics/avg_repair_price/\",\n",
    ")\n",
    "pp.pprint(response.json())"
   ]
  },
  {
   "cell_type": "code",
   "execution_count": null,
   "id": "39378c97-d2da-4d9e-aed7-7eee7c82fee4",
   "metadata": {
    "tags": []
   },
   "outputs": [],
   "source": [
    "response = requests.get(\n",
    "    f\"{DJ_URL}/sql/avg_repair_price/?dimensions=us_state.state_name\",\n",
    ")\n",
    "print(response.json()[\"sql\"])"
   ]
  },
  {
   "cell_type": "code",
   "execution_count": null,
   "id": "bbbe3e67-a696-4a22-927b-d090afbbdad3",
   "metadata": {
    "tags": []
   },
   "outputs": [],
   "source": [
    "response = requests.get(\n",
    "    f\"{DJ_URL}/data/avg_repair_price/?dimensions=us_state.state_name\",\n",
    ")\n",
    "pp.pprint(response.json()[\"results\"])"
   ]
  },
  {
   "cell_type": "code",
   "execution_count": null,
   "id": "04bdf177",
   "metadata": {},
   "outputs": [],
   "source": [
    "response.json()"
   ]
  },
  {
   "cell_type": "code",
   "execution_count": null,
   "id": "07103157-111f-46c9-8bcb-8e6b9534b1aa",
   "metadata": {
    "tags": []
   },
   "outputs": [],
   "source": [
    "response = requests.get(\n",
    "    f\"{DJ_URL}/data/avg_repair_price/\",\n",
    "    params={\n",
    "        \"dimensions\": \"dispatcher.company_name\",\n",
    "        \"filters\": \"dispatcher.company_name = 'Pothole Pete'\",\n",
    "    },\n",
    ")\n",
    "pp.pprint(response.json()[\"results\"])"
   ]
  },
  {
   "cell_type": "code",
   "execution_count": null,
   "id": "4031707c-bbdf-41b1-a9f8-341434fca6c5",
   "metadata": {},
   "outputs": [],
   "source": [
    "response.json()"
   ]
  },
  {
   "cell_type": "code",
   "execution_count": null,
   "id": "003123d9",
   "metadata": {},
   "outputs": [],
   "source": [
    "requests.get(\n",
    "    \"http://dj:8000/data/avg_repair_price/?dimensions=dispatcher.company_name, dispatcher.dispatcher_id, hard_hat.hard_hat_id&filters=None\"\n",
    ").json()"
   ]
  },
  {
   "cell_type": "code",
   "execution_count": null,
   "id": "0a0b1da9",
   "metadata": {},
   "outputs": [],
   "source": []
  }
 ],
 "metadata": {
  "kernelspec": {
   "display_name": "Python 3 (ipykernel)",
   "language": "python",
   "name": "python3"
  },
  "language_info": {
   "codemirror_mode": {
    "name": "ipython",
    "version": 3
   },
   "file_extension": ".py",
   "mimetype": "text/x-python",
   "name": "python",
   "nbconvert_exporter": "python",
   "pygments_lexer": "ipython3",
   "version": "3.10.10"
  }
 },
 "nbformat": 4,
 "nbformat_minor": 5
}
