{
 "cells": [
  {
   "cell_type": "code",
   "execution_count": 1,
   "id": "040fa35a-00fb-40c3-bb24-a9c82102c358",
   "metadata": {},
   "outputs": [],
   "source": [
    "from datajunction import DJBuilder\n",
    "from datajunction.compile import Project\n",
    "\n",
    "dj = DJBuilder(uri=\"http://localhost:8000\")\n",
    "\n",
    "project = Project.load_current()\n",
    "\n",
    "# compiled_project.validate(client=dj)\n",
    "# compiled_project.deploy(client=dj)\n"
   ]
  },
  {
   "cell_type": "code",
   "execution_count": 2,
   "id": "8ada1d07-839c-46b3-9766-7261ea706bf7",
   "metadata": {},
   "outputs": [
    {
     "name": "stderr",
     "output_type": "stream",
     "text": [
      "[AttributeError]: '_asyncio.Task' object has no attribute 'name'\n"
     ]
    }
   ],
   "source": [
    "compiled_project = project.compile()"
   ]
  },
  {
   "cell_type": "code",
   "execution_count": null,
   "id": "1e44eaa5-cf6c-4ed1-a4c2-d403f3067792",
   "metadata": {},
   "outputs": [],
   "source": []
  }
 ],
 "metadata": {
  "kernelspec": {
   "display_name": "Python 3 (ipykernel)",
   "language": "python",
   "name": "python3"
  },
  "language_info": {
   "codemirror_mode": {
    "name": "ipython",
    "version": 3
   },
   "file_extension": ".py",
   "mimetype": "text/x-python",
   "name": "python",
   "nbconvert_exporter": "python",
   "pygments_lexer": "ipython3",
   "version": "3.11.5"
  }
 },
 "nbformat": 4,
 "nbformat_minor": 5
}
