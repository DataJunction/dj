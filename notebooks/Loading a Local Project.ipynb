{
 "cells": [
  {
   "cell_type": "code",
   "execution_count": 2,
   "id": "7d74fec0-8ef7-4bd6-bb93-7d56ef1f7974",
   "metadata": {},
   "outputs": [],
   "source": [
    "from datajunction import DJBuilder, Project\n",
    "from datajunction._internal import RequestsSessionWithEndpoint"
   ]
  },
  {
   "cell_type": "code",
   "execution_count": 9,
   "id": "8ac90215-a081-43b8-89c0-992727979509",
   "metadata": {},
   "outputs": [],
   "source": [
    "session = RequestsSessionWithEndpoint(endpoint=\"http://localhost:8000\")\n",
    "session.post(\"/basic/login/\", data={\"username\": \"dj\", \"password\": \"dj\"})\n",
    "dj = DJBuilder(requests_session=session)\n",
    "project = Project.load_current()\n",
    "compiled_project = project.compile()"
   ]
  },
  {
   "cell_type": "code",
   "execution_count": 10,
   "id": "88cb4ca7-d0fb-470e-b642-a2ac7dfcf5e0",
   "metadata": {},
   "outputs": [
    {
     "data": {
      "text/html": [
       "<pre style=\"white-space:pre;overflow-x:auto;line-height:normal;font-family:Menlo,'DejaVu Sans Mono',consolas,'Courier New',monospace\"></pre>\n"
      ],
      "text/plain": []
     },
     "metadata": {},
     "output_type": "display_data"
    },
    {
     "data": {
      "application/vnd.jupyter.widget-view+json": {
       "model_id": "34ef6db2f5104200978260832ee9920c",
       "version_major": 2,
       "version_minor": 0
      },
      "text/plain": [
       "Output()"
      ]
     },
     "metadata": {},
     "output_type": "display_data"
    },
    {
     "data": {
      "text/html": [
       "<pre style=\"white-space:pre;overflow-x:auto;line-height:normal;font-family:Menlo,'DejaVu Sans Mono',consolas,'Courier New',monospace\"></pre>\n"
      ],
      "text/plain": []
     },
     "metadata": {},
     "output_type": "display_data"
    }
   ],
   "source": [
    "compiled_project.validate(client=dj)"
   ]
  },
  {
   "cell_type": "code",
   "execution_count": 11,
   "id": "7b1ee788-afa2-46b9-b6d4-610633c2f1eb",
   "metadata": {},
   "outputs": [
    {
     "data": {
      "text/html": [
       "<pre style=\"white-space:pre;overflow-x:auto;line-height:normal;font-family:Menlo,'DejaVu Sans Mono',consolas,'Courier New',monospace\"></pre>\n"
      ],
      "text/plain": []
     },
     "metadata": {},
     "output_type": "display_data"
    },
    {
     "data": {
      "application/vnd.jupyter.widget-view+json": {
       "model_id": "bd7cec7770344a54858d7ef7d1e3c83f",
       "version_major": 2,
       "version_minor": 0
      },
      "text/plain": [
       "Output()"
      ]
     },
     "metadata": {},
     "output_type": "display_data"
    },
    {
     "data": {
      "text/html": [
       "<pre style=\"white-space:pre;overflow-x:auto;line-height:normal;font-family:Menlo,'DejaVu Sans Mono',consolas,'Courier New',monospace\"></pre>\n"
      ],
      "text/plain": []
     },
     "metadata": {},
     "output_type": "display_data"
    }
   ],
   "source": [
    "compiled_project.deploy(client=dj)"
   ]
  },
  {
   "cell_type": "code",
   "execution_count": null,
   "id": "2d95d910-5042-43ad-a530-cee7f17318f9",
   "metadata": {},
   "outputs": [],
   "source": []
  }
 ],
 "metadata": {
  "kernelspec": {
   "display_name": "Python 3 (ipykernel)",
   "language": "python",
   "name": "python3"
  },
  "language_info": {
   "codemirror_mode": {
    "name": "ipython",
    "version": 3
   },
   "file_extension": ".py",
   "mimetype": "text/x-python",
   "name": "python",
   "nbconvert_exporter": "python",
   "pygments_lexer": "ipython3",
   "version": "3.10.9"
  }
 },
 "nbformat": 4,
 "nbformat_minor": 5
}
