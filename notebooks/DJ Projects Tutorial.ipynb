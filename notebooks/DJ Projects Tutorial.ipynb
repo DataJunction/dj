{
 "cells": [
  {
   "cell_type": "markdown",
   "id": "9dc8658c-d6f5-4e97-9112-ee5ab006e585",
   "metadata": {},
   "source": [
    "# DataJunction Projects\n",
    "\n",
    "A DataJunction project is a collection of local YAML files that represent a particular namespace on the DataJunction server. Projects can be developed locally and then deployed. An existing namespace can also be pulled down to a local project. This notebook walks through how to work with DataJunction projects."
   ]
  },
  {
   "cell_type": "code",
   "execution_count": null,
   "id": "7d74fec0-8ef7-4bd6-bb93-7d56ef1f7974",
   "metadata": {},
   "outputs": [],
   "source": [
    "from datajunction import DJBuilder, Project\n",
    "from datajunction._internal import RequestsSessionWithEndpoint"
   ]
  },
  {
   "cell_type": "markdown",
   "id": "8c92ccd3-c0f2-4584-a372-71373793e187",
   "metadata": {},
   "source": [
    "# Create a \"dj\" User"
   ]
  },
  {
   "cell_type": "code",
   "execution_count": null,
   "id": "9ca381e9-41a1-49c2-aba7-f0bf4577a8ce",
   "metadata": {},
   "outputs": [],
   "source": [
    "session = RequestsSessionWithEndpoint(endpoint=\"http://dj:8000\")\n",
    "session.post(\"/basic/user/\", data={\"email\": \"dj@dj.com\", \"username\": \"dj\", \"password\": \"dj\"})"
   ]
  },
  {
   "cell_type": "markdown",
   "id": "112050ce-1b18-4ea7-9b02-831b427776b5",
   "metadata": {},
   "source": [
    "# Login as the User \"dj\""
   ]
  },
  {
   "cell_type": "code",
   "execution_count": null,
   "id": "abca4c31-eae8-4d89-9f51-fa50fca2a0d6",
   "metadata": {},
   "outputs": [],
   "source": [
    "session.post(\"/basic/login/\", data={\"username\": \"dj\", \"password\": \"dj\"})"
   ]
  },
  {
   "cell_type": "markdown",
   "id": "0a62b79e-27a4-4d1c-9e4f-91e9125f89ca",
   "metadata": {},
   "source": [
    "# Instantiate a Client Using the Logged In Session"
   ]
  },
  {
   "cell_type": "code",
   "execution_count": null,
   "id": "cc6b9aeb-3c71-4bf3-ac0f-51be8b161a50",
   "metadata": {},
   "outputs": [],
   "source": [
    "dj = DJBuilder(requests_session=session)"
   ]
  },
  {
   "cell_type": "markdown",
   "id": "9e8f60a0-b19c-405d-b723-5766392b780f",
   "metadata": {},
   "source": [
    "# Import an Existing Project"
   ]
  },
  {
   "cell_type": "code",
   "execution_count": null,
   "id": "e82977fb-b973-4d17-b718-3b610233c9a7",
   "metadata": {},
   "outputs": [],
   "source": [
    "Project.pull(client=dj, namespace=\"default\", target_path=\"./example_project\", ignore_existing_files=True)"
   ]
  },
  {
   "cell_type": "markdown",
   "id": "c245ec81-26ba-426c-bfe3-ce8885433cba",
   "metadata": {},
   "source": [
    "# Load and Compile the Project in the Current Directory"
   ]
  },
  {
   "cell_type": "code",
   "execution_count": null,
   "id": "ff102299-5f09-4e5d-9fb4-e7f7c9075a16",
   "metadata": {},
   "outputs": [],
   "source": [
    "project = Project.load(\"./example_project\")\n",
    "compiled_project = project.compile()"
   ]
  },
  {
   "cell_type": "markdown",
   "id": "ad1b350d-3185-483f-a80f-a58015563da9",
   "metadata": {},
   "source": [
    "# Optionally Validate the Project\n",
    "### (This automatically happens during during deployment)"
   ]
  },
  {
   "cell_type": "code",
   "execution_count": null,
   "id": "88cb4ca7-d0fb-470e-b642-a2ac7dfcf5e0",
   "metadata": {},
   "outputs": [],
   "source": [
    "# compiled_project.validate(client=dj)"
   ]
  },
  {
   "cell_type": "markdown",
   "id": "c57adadd-c794-41f5-9d08-28184915de77",
   "metadata": {},
   "source": [
    "# Deploy the Project"
   ]
  },
  {
   "cell_type": "code",
   "execution_count": null,
   "id": "7b1ee788-afa2-46b9-b6d4-610633c2f1eb",
   "metadata": {},
   "outputs": [],
   "source": [
    "compiled_project.deploy(client=dj)"
   ]
  }
 ],
 "metadata": {
  "kernelspec": {
   "display_name": "Python 3 (ipykernel)",
   "language": "python",
   "name": "python3"
  },
  "language_info": {
   "codemirror_mode": {
    "name": "ipython",
    "version": 3
   },
   "file_extension": ".py",
   "mimetype": "text/x-python",
   "name": "python",
   "nbconvert_exporter": "python",
   "pygments_lexer": "ipython3",
   "version": "3.11.6"
  }
 },
 "nbformat": 4,
 "nbformat_minor": 5
}
